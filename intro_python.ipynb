{
 "cells": [
  {
   "cell_type": "markdown",
   "id": "5835c4f2-7ab5-45ac-b850-b98fa701b96b",
   "metadata": {},
   "source": [
    "# Intro to Python\n",
    "_DataCamp Course - Oct 2022_"
   ]
  },
  {
   "cell_type": "markdown",
   "id": "1be376cd-56c6-4173-967a-9be501e0e47e",
   "metadata": {},
   "source": [
    "## What is Python?\n",
    "\n",
    "Python is a general purpose programming language. It's open source, created by Guido van Rossum it's considered the swiss army of the programming languages."
   ]
  },
  {
   "cell_type": "markdown",
   "id": "573f8001-fb52-4e7e-873a-f6072435b9eb",
   "metadata": {},
   "source": [
    "### Python as calculator\n",
    "Syntax for some basic arithmetics:"
   ]
  },
  {
   "cell_type": "code",
   "execution_count": 1,
   "id": "b60009bd-d0c6-4b81-80f5-4e13684df74f",
   "metadata": {},
   "outputs": [
    {
     "name": "stdout",
     "output_type": "stream",
     "text": [
      "10\n",
      "0\n",
      "15\n",
      "5.0\n",
      "4\n",
      "16\n"
     ]
    }
   ],
   "source": [
    "# Addition, subtraction\n",
    "print(5 + 5)\n",
    "print(5 - 5)\n",
    "\n",
    "# Multiplication, division, modulo, and exponentiation\n",
    "print(3 * 5)\n",
    "print(10 / 2)\n",
    "print(18 % 7)\n",
    "print(4 ** 2)"
   ]
  },
  {
   "cell_type": "markdown",
   "id": "dc0382e3-e493-4872-af4a-89f675e216de",
   "metadata": {},
   "source": [
    "**Problem**: Suppose you have \\\\$100, which you can invest with a 10% return each year. After one year, it's $100 * 1.1 = 110$ dollars, and after two years it's $100 * 1.1 * 1.1 = 121$. Add code to calculate how much money you end up with after 7 years, and print the result."
   ]
  },
  {
   "cell_type": "code",
   "execution_count": 2,
   "id": "ac6cf77d-458f-40c4-a18b-dcb42bf11181",
   "metadata": {},
   "outputs": [
    {
     "name": "stdout",
     "output_type": "stream",
     "text": [
      "194.87171000000012\n"
     ]
    }
   ],
   "source": [
    "print(100 * 1.1**7)"
   ]
  },
  {
   "cell_type": "markdown",
   "id": "67ddfbbe-e0d5-41f9-920f-8ba1b56a1bdb",
   "metadata": {},
   "source": [
    "## Variables and Types\n",
    "\n",
    "In Python variables are written in snake_case. Keep in mind that they are also case-sensitive.\n",
    "The `type` function can tell the type of a variable"
   ]
  },
  {
   "cell_type": "code",
   "execution_count": 5,
   "id": "ae254546-96f0-4664-add0-65247ade92e3",
   "metadata": {},
   "outputs": [
    {
     "data": {
      "text/plain": [
       "int"
      ]
     },
     "execution_count": 5,
     "metadata": {},
     "output_type": "execute_result"
    }
   ],
   "source": [
    "x = 5\n",
    "type(x)"
   ]
  },
  {
   "cell_type": "markdown",
   "id": "4c0c13d3-f38d-47c5-9c4a-c5a2694e2d99",
   "metadata": {},
   "source": [
    "Some common python data types are:\n",
    "- Floats\n",
    "- Ints\n",
    "- Strings\n",
    "- Boolean"
   ]
  },
  {
   "cell_type": "markdown",
   "id": "2cfb9200-4bc9-4254-a41b-0d30bcdd2a95",
   "metadata": {},
   "source": [
    "### Type Conversion\n",
    "Use `str()`, `int()`, `float()` and `bool()` to Python values into any type."
   ]
  },
  {
   "cell_type": "code",
   "execution_count": 6,
   "id": "00f4b3ed-1dc5-4106-addb-19f358608f01",
   "metadata": {},
   "outputs": [
    {
     "name": "stdout",
     "output_type": "stream",
     "text": [
      "I started with $100 and now have $194.87171000000012. Awesome!\n"
     ]
    }
   ],
   "source": [
    "# Definition of savings and result\n",
    "savings = 100\n",
    "result = 100 * 1.10 ** 7\n",
    "\n",
    "# Fix the printout\n",
    "print(\"I started with $\" + str(savings) + \" and now have $\" + str(result) + \". Awesome!\")\n",
    "\n",
    "# Definition of pi_string\n",
    "pi_string = \"3.1415926\"\n",
    "\n",
    "# Convert pi_string into float: pi_float\n",
    "pi_float = float(pi_string)"
   ]
  },
  {
   "cell_type": "markdown",
   "id": "f00afe6e-de73-4484-b706-d9858a95ba80",
   "metadata": {},
   "source": [
    "Note in the code above that for string concatenation to be successful, all pieces must be strings. A string cannot be concatenated directly with an integer, the integer must be parsed to string first."
   ]
  },
  {
   "cell_type": "markdown",
   "id": "28ae4833-2c65-48bc-826c-2f9628840a72",
   "metadata": {},
   "source": [
    "## Lists\n",
    "\n",
    "Lists are arrangements of elements. They can store elements of different types, although it's not very common"
   ]
  },
  {
   "cell_type": "code",
   "execution_count": 7,
   "id": "8dc2d429-1925-47ee-b491-a125f8fbbf01",
   "metadata": {},
   "outputs": [
    {
     "name": "stdout",
     "output_type": "stream",
     "text": [
      "['hallway', 11.25, 'kitchen', 18.0, 'living room', 20.0, 'bedroom', 10.75, 'bathroom', 9.5]\n"
     ]
    }
   ],
   "source": [
    "# area variables (in square meters)\n",
    "hall = 11.25\n",
    "kit = 18.0\n",
    "liv = 20.0\n",
    "bed = 10.75\n",
    "bath = 9.50\n",
    "\n",
    "# Adapt list areas\n",
    "areas = [\"hallway\", hall, \"kitchen\", kit, \"living room\", liv,\"bedroom\", bed, \"bathroom\", bath]\n",
    "\n",
    "# Print areas\n",
    "print(areas)"
   ]
  },
  {
   "cell_type": "markdown",
   "id": "7be03b65-c6f7-49f4-b9b8-f435429067d5",
   "metadata": {},
   "source": [
    "### Subsetting lists\n",
    "\n",
    "Lists are zero-indexed, so `list[i]` will return the element of the list at index $i$.\n",
    "\n",
    "If $i < 0$ that call will return the element at position $i$ starting from tail to head.\n",
    "\n",
    "Lists can also be sliced to get a resulting sub-list. `list[i:j]` will return the elements of the list from index $i$ to index $j-1$ (so $j$ is exclusive and $i$ is inclusive). `list[:j]` and `list[i:]` can also be used to slice the list from head to $j-1$ and from $i$ to tail respectively.\n"
   ]
  },
  {
   "cell_type": "markdown",
   "id": "39f2f367-60f5-4446-acaa-00f141a6c8ba",
   "metadata": {},
   "source": [
    "### Manipulating lists\n",
    "\n",
    "The same syntax used to slice and access lists can be used to modify values using the assignment operator.\n",
    "\n",
    "To delete an element or a subset of elements of a list, `del(list[i])` can be used.\n",
    "\n",
    "Python saves lists in variables by reference; it means that, if a variable is defined from another one, both are really pointing to the same space in memory and hence one will mutate if the other one does. To avoid this behavior, an actual copy of the initial list must be created. This can be done with the `list()` function."
   ]
  },
  {
   "cell_type": "code",
   "execution_count": 14,
   "id": "ff1157fd-67e8-494a-9023-0a1be4f98e94",
   "metadata": {},
   "outputs": [
    {
     "name": "stdout",
     "output_type": "stream",
     "text": [
      "[11.25, 18.0, 20.0, 10.75, 9.5]\n",
      "[5.0, 18.0, 20.0, 10.75, 9.5]\n"
     ]
    }
   ],
   "source": [
    "# Create list areas\n",
    "areas = [11.25, 18.0, 20.0, 10.75, 9.50]\n",
    "\n",
    "# Create areas_copy\n",
    "areas_copy = list(areas)\n",
    "\n",
    "# Change areas_copy\n",
    "areas_copy[0] = 5.0\n",
    "\n",
    "# Print areas\n",
    "print(areas)\n",
    "print(areas_copy)"
   ]
  },
  {
   "cell_type": "markdown",
   "id": "f107e743-18a7-4dd7-885e-55a48fc97cfa",
   "metadata": {},
   "source": [
    "Concatenation using the `+` operator can be used to extend lists and attach one list to the end of another one."
   ]
  },
  {
   "cell_type": "code",
   "execution_count": 12,
   "id": "d2bf65ef-bdad-44fe-9df7-233e202e314a",
   "metadata": {},
   "outputs": [
    {
     "name": "stdout",
     "output_type": "stream",
     "text": [
      "['hallway', 11.25, 'kitchen', 18.0, 'chill zone', 20.0, 'bedroom', 10.75, 'bathroom', 10.5]\n",
      "['hallway', 11.25, 'kitchen', 18.0, 'chill zone', 20.0, 'bedroom', 10.75, 'bathroom', 10.5, 'poolhouse', 24.5]\n",
      "['hallway', 11.25, 'kitchen', 18.0, 'chill zone', 20.0, 'bedroom', 10.75, 'bathroom', 10.5, 'poolhouse', 24.5, 'garage', 15.45]\n"
     ]
    }
   ],
   "source": [
    "# Create the areas list and make some changes\n",
    "areas = [\"hallway\", 11.25, \"kitchen\", 18.0, \"chill zone\", 20.0,\n",
    "         \"bedroom\", 10.75, \"bathroom\", 10.50]\n",
    "print(areas)\n",
    "\n",
    "# Add poolhouse data to areas, new list is areas_1\n",
    "areas_1 = areas + [\"poolhouse\", 24.5]\n",
    "print(areas_1)\n",
    "\n",
    "# Add garage data to areas_1, new list is areas_2\n",
    "areas_2 = areas_1 + [\"garage\", 15.45]\n",
    "print(areas_2)"
   ]
  },
  {
   "cell_type": "markdown",
   "id": "26801c37-293b-4cd1-92da-9e9e8d062c65",
   "metadata": {},
   "source": [
    "## Functions\n"
   ]
  },
  {
   "cell_type": "code",
   "execution_count": 18,
   "id": "9149cb9f-8f5c-4377-a6d7-053a86cf1b07",
   "metadata": {},
   "outputs": [
    {
     "data": {
      "text/plain": [
       "2.5"
      ]
     },
     "execution_count": 18,
     "metadata": {},
     "output_type": "execute_result"
    }
   ],
   "source": [
    "# Functions are invoked like this\n",
    "round(2.54)\n",
    "\n",
    "# Some function receive optional arguments like the second argument of round\n",
    "round(2.54, 1)\n",
    "\n",
    "# Arguments can be passed also this way, stating the name of the argument on each case\n",
    "round(number = 2.54, ndigits = 1)"
   ]
  },
  {
   "cell_type": "markdown",
   "id": "fcf71584-d192-44f8-a4ed-cddcd5e6679a",
   "metadata": {},
   "source": [
    "## Methods\n",
    "\n",
    "Python applies the OOP paradigm for most of its uses. _Everything in Python is an object_ is a common quotation that describes this.\n",
    "Basic data types and data structures such as lists are objects, and hence present some built-in methods that can be used"
   ]
  },
  {
   "cell_type": "markdown",
   "id": "faec140d-f17c-4fb7-8751-87038cdb6ff2",
   "metadata": {},
   "source": [
    "### String Methods"
   ]
  },
  {
   "cell_type": "code",
   "execution_count": 22,
   "id": "523fc804-e313-4931-922b-a106578b21fc",
   "metadata": {},
   "outputs": [
    {
     "name": "stdout",
     "output_type": "stream",
     "text": [
      "poolhouse\n",
      "POOLHOUSE\n",
      "3\n"
     ]
    }
   ],
   "source": [
    "# string to experiment with: place\n",
    "place = \"poolhouse\"\n",
    "\n",
    "# Use upper() on place: place_up\n",
    "place_up = place.upper()\n",
    "\n",
    "# Print out place and place_up\n",
    "print(place)\n",
    "print(place_up)\n",
    "\n",
    "# Print out the number of o's in place\n",
    "print(place.count('o'))"
   ]
  },
  {
   "cell_type": "markdown",
   "id": "036177a6-12bc-4856-ba3b-6429315a4629",
   "metadata": {},
   "source": [
    "### List Methods"
   ]
  },
  {
   "cell_type": "code",
   "execution_count": 26,
   "id": "3ff38411-ff22-4787-8e19-d81d744dfb39",
   "metadata": {},
   "outputs": [
    {
     "name": "stdout",
     "output_type": "stream",
     "text": [
      "2\n",
      "1\n"
     ]
    }
   ],
   "source": [
    "# Create list areas\n",
    "areas = [11.25, 18.0, 20.0, 10.75, 9.50]\n",
    "\n",
    "# Print out the index of the element 20.0\n",
    "print(areas.index(20))\n",
    "\n",
    "# Print out how often 9.50 appears in areas\n",
    "print(areas.count(9.50))"
   ]
  },
  {
   "cell_type": "code",
   "execution_count": 25,
   "id": "c25a9f58-30ae-4c44-a35b-cc45cf07af88",
   "metadata": {},
   "outputs": [
    {
     "name": "stdout",
     "output_type": "stream",
     "text": [
      "[11.25, 18.0, 20.0, 10.75, 9.5, 24.5, 15.45]\n",
      "[15.45, 24.5, 9.5, 10.75, 20.0, 18.0, 11.25]\n"
     ]
    }
   ],
   "source": [
    "# Create list areas\n",
    "areas = [11.25, 18.0, 20.0, 10.75, 9.50]\n",
    "\n",
    "# Use append twice to add poolhouse and garage size\n",
    "areas.append(24.5)\n",
    "areas.append(15.45)\n",
    "\n",
    "# Print out areas\n",
    "print(areas)\n",
    "\n",
    "# Reverse the orders of the elements in areas\n",
    "areas.reverse()\n",
    "\n",
    "# Print out areas\n",
    "print(areas)"
   ]
  },
  {
   "cell_type": "markdown",
   "id": "1d34bac8-d2b1-4a5c-b492-d51ebc45a672",
   "metadata": {},
   "source": [
    "## Packages"
   ]
  },
  {
   "cell_type": "code",
   "execution_count": 27,
   "id": "eca2cc83-3084-4076-bc39-362e127d62b0",
   "metadata": {},
   "outputs": [
    {
     "name": "stdout",
     "output_type": "stream",
     "text": [
      "Circumference: 2.701769682087222\n",
      "Area: 0.5808804816487527\n"
     ]
    }
   ],
   "source": [
    "# Definition of radius\n",
    "r = 0.43\n",
    "\n",
    "# Import the math package\n",
    "import math\n",
    "\n",
    "# Calculate C\n",
    "C = math.pi*r*2\n",
    "\n",
    "# Calculate A\n",
    "A = math.pi*r**2\n",
    "\n",
    "# Build printout\n",
    "print(\"Circumference: \" + str(C))\n",
    "print(\"Area: \" + str(A))"
   ]
  },
  {
   "cell_type": "markdown",
   "id": "87f9f8e3-5040-46f3-a92b-11a9a287f3cb",
   "metadata": {},
   "source": [
    "### Selective imports"
   ]
  },
  {
   "cell_type": "code",
   "execution_count": 28,
   "id": "4dd8717a-e68c-4b3b-9852-73843cd677d8",
   "metadata": {},
   "outputs": [
    {
     "name": "stdout",
     "output_type": "stream",
     "text": [
      "40317.10572106901\n"
     ]
    }
   ],
   "source": [
    "# Definition of radius\n",
    "r = 192500\n",
    "\n",
    "# Import radians function of math package\n",
    "from math import radians\n",
    "\n",
    "# Travel distance of Moon over 12 degrees. Store in dist.\n",
    "dist = r*radians(12)\n",
    "\n",
    "# Print out dist\n",
    "print(dist)"
   ]
  },
  {
   "cell_type": "markdown",
   "id": "388cc6ca-ea42-49a9-9e74-3278378f20f1",
   "metadata": {},
   "source": [
    "### Aliases"
   ]
  },
  {
   "cell_type": "code",
   "execution_count": 31,
   "id": "62988c06-e32b-4710-8c6e-8155a67d3e11",
   "metadata": {},
   "outputs": [],
   "source": [
    "from scipy.linalg import inv as my_inv"
   ]
  },
  {
   "cell_type": "markdown",
   "id": "b5a4f9bb-ff5f-45b2-9d95-bc945416accb",
   "metadata": {},
   "source": [
    "## NumPy\n",
    "\n",
    "NumPy is python library that provides useful tooling to deal with numeric data"
   ]
  },
  {
   "cell_type": "markdown",
   "id": "f161d068-1173-48d5-8690-0e958c2b0c9a",
   "metadata": {},
   "source": [
    "### Defining arrays\n",
    "Beforehand, the first thing that must be done to play with numpy is to define arrays. Arrays are a numpy class very similar to lists and can be defined starting from a list using the `np.array()` function"
   ]
  },
  {
   "cell_type": "code",
   "execution_count": 32,
   "id": "f11c9772-632e-4e4e-8fbd-5e834a834736",
   "metadata": {},
   "outputs": [
    {
     "name": "stdout",
     "output_type": "stream",
     "text": [
      "<class 'numpy.ndarray'>\n"
     ]
    }
   ],
   "source": [
    "# Create list baseball\n",
    "baseball = [180, 215, 210, 210, 188, 176, 209, 200]\n",
    "\n",
    "# Import the numpy package as np\n",
    "import numpy as np\n",
    "\n",
    "# Create a numpy array from baseball: np_baseball\n",
    "np_baseball = np.array(baseball)\n",
    "\n",
    "# Print out type of np_baseball\n",
    "print(type(np_baseball))"
   ]
  },
  {
   "cell_type": "markdown",
   "id": "e711bbc5-9022-4949-89b6-5f11c2f1e548",
   "metadata": {},
   "source": [
    "### Arithmetics\n",
    "\n",
    "NumPy provides the ability to do some math with arrays. Addition, multiplication, substraction, exponetiation and other operations can be done between arrays and numbers. NumPy will take care of mapping the operation on each element of the resulting array"
   ]
  },
  {
   "cell_type": "code",
   "execution_count": 36,
   "id": "26e7bf2e-2866-4c83-830e-cd18bb6fe321",
   "metadata": {},
   "outputs": [
    {
     "name": "stdout",
     "output_type": "stream",
     "text": [
      "[92.54 84.21 63.2  72.3 ]\n",
      "[2.350516 2.138934 1.60528  1.83642 ]\n"
     ]
    }
   ],
   "source": [
    "# height is available as a regular list, in inches\n",
    "height = [92.54, 84.21, 63.2, 72.3]\n",
    "\n",
    "# Import numpy\n",
    "import numpy as np\n",
    "\n",
    "# Create a numpy array from height: np_height\n",
    "np_height = np.array(height)\n",
    "\n",
    "# Print out np_height\n",
    "print(np_height)\n",
    "\n",
    "# Convert np_height to m: np_height_m\n",
    "np_height_m = np_height * 0.0254\n",
    "\n",
    "# Print np_height_m\n",
    "print(np_height_m)"
   ]
  },
  {
   "cell_type": "markdown",
   "id": "d1eff0da-eef2-4076-93bd-d64719ccee1b",
   "metadata": {},
   "source": [
    "Operations between arrays are also supported"
   ]
  },
  {
   "cell_type": "code",
   "execution_count": 37,
   "id": "4ce94c88-ad82-42a9-9cf0-edd9a197c89e",
   "metadata": {},
   "outputs": [
    {
     "name": "stdout",
     "output_type": "stream",
     "text": [
      "[24.62976213 19.82899093 44.00518034 24.20994839]\n"
     ]
    }
   ],
   "source": [
    "# height_in and weight_lb are available as regular lists\n",
    "height_in = [92.54, 84.21, 63.2, 72.3]\n",
    "weight_lb = [300, 200, 250, 180]\n",
    "\n",
    "# Import numpy\n",
    "import numpy as np\n",
    "\n",
    "# Create array from height_in with metric units: np_height_m\n",
    "np_height_m = np.array(height_in) * 0.0254\n",
    "\n",
    "# Create array from weight_lb with metric units: np_weight_kg\n",
    "np_weight_kg = np.array(weight_lb) * 0.453592\n",
    "\n",
    "# Calculate the BMI: bmi\n",
    "bmi = np_weight_kg / (np_height_m ** 2)\n",
    "\n",
    "# Print out bmi\n",
    "print(bmi)\n"
   ]
  },
  {
   "cell_type": "markdown",
   "id": "371deee1-5bf3-44a6-b85f-0454239dc8a6",
   "metadata": {},
   "source": [
    "### Subsetting arrays\n",
    "The subsetting operator on lists can be extended on NumPy to also slice an array filtering according to a given criteria"
   ]
  },
  {
   "cell_type": "code",
   "execution_count": 40,
   "id": "1532d38b-bdcd-4b7e-be6e-b3093191e772",
   "metadata": {},
   "outputs": [
    {
     "name": "stdout",
     "output_type": "stream",
     "text": [
      "[False  True False False]\n",
      "[24.62976213 19.82899093 44.00518034 24.20994839]\n",
      "[19.82899093]\n"
     ]
    }
   ],
   "source": [
    "# height_in and weight_lb are available as a regular lists\n",
    "\n",
    "# Import numpy\n",
    "import numpy as np\n",
    "\n",
    "# Calculate the BMI: bmi\n",
    "np_height_m = np.array(height_in) * 0.0254\n",
    "np_weight_kg = np.array(weight_lb) * 0.453592\n",
    "bmi = np_weight_kg / np_height_m ** 2\n",
    "\n",
    "# Create the light array\n",
    "light = bmi < 21\n",
    "\n",
    "\n",
    "# Print out light\n",
    "print(light)\n",
    "\n",
    "# Print out BMIs of all baseball players whose BMI is below 21\n",
    "print(bmi)\n",
    "print(bmi[light])\n"
   ]
  },
  {
   "cell_type": "markdown",
   "id": "e621140a-5ae2-4381-8642-ca370a4a627a",
   "metadata": {},
   "source": [
    "### 2D Arrays\n",
    "\n",
    "NumPy supports 2D arrays. That is, arrays inside arrays."
   ]
  },
  {
   "cell_type": "code",
   "execution_count": 42,
   "id": "236f9eb6-1b79-4111-9a88-510b5d4338e1",
   "metadata": {},
   "outputs": [
    {
     "name": "stdout",
     "output_type": "stream",
     "text": [
      "<class 'numpy.ndarray'>\n",
      "(4, 2)\n"
     ]
    }
   ],
   "source": [
    "# Create baseball, a list of lists\n",
    "baseball = [[180, 78.4],\n",
    "            [215, 102.7],\n",
    "            [210, 98.5],\n",
    "            [188, 75.2]]\n",
    "\n",
    "# Import numpy\n",
    "import numpy as np\n",
    "\n",
    "# Create a 2D numpy array from baseball: np_baseball\n",
    "np_baseball = np.array(baseball)\n",
    "\n",
    "# Print out the type of np_baseball\n",
    "print(type(np_baseball))\n",
    "\n",
    "# Print out the shape of np_baseball\n",
    "print(np_baseball.shape)"
   ]
  },
  {
   "cell_type": "markdown",
   "id": "ee732474-e3c9-45e3-947c-3bb00b311586",
   "metadata": {},
   "source": [
    "#### Subsetting 2D Arrays\n",
    "\n",
    "Subsetting can be achieved with the `np_array[i1:i2, j1:j2]` method."
   ]
  },
  {
   "cell_type": "code",
   "execution_count": 46,
   "id": "d0d1d289-7498-4ceb-b0a6-8ace9247b69f",
   "metadata": {},
   "outputs": [
    {
     "name": "stdout",
     "output_type": "stream",
     "text": [
      "[215.  102.7]\n",
      "210.0\n"
     ]
    }
   ],
   "source": [
    "# baseball is available as a regular list of lists\n",
    "\n",
    "# Import numpy package\n",
    "import numpy as np\n",
    "\n",
    "# Create np_baseball (2 cols)\n",
    "np_baseball = np.array(baseball)\n",
    "\n",
    "# Print out the 1st row of np_baseball\n",
    "print(np_baseball[1,:])\n",
    "\n",
    "# Select the entire second column of np_baseball: np_weight_lb\n",
    "np_weight_lb = np_baseball[:, 1]\n",
    "\n",
    "# Print out height of 3th player\n",
    "print(np_baseball[2,0])"
   ]
  },
  {
   "cell_type": "markdown",
   "id": "5e526a2b-d63c-4afd-8da5-5d4acbcedad2",
   "metadata": {},
   "source": [
    "### Stats with Numpy\n",
    "NumPy provides some helpers to compute statistics on the array data"
   ]
  },
  {
   "cell_type": "code",
   "execution_count": 47,
   "id": "85ce55fe-7703-4d1f-aac8-335a015852fe",
   "metadata": {},
   "outputs": [
    {
     "name": "stdout",
     "output_type": "stream",
     "text": [
      "Average: 198.25\n",
      "Median: 199.0\n",
      "Standard Deviation: 14.635146053251399\n",
      "Correlation: [[1.         0.95865738]\n",
      " [0.95865738 1.        ]]\n"
     ]
    }
   ],
   "source": [
    "# np_baseball is available\n",
    "\n",
    "# Import numpy\n",
    "import numpy as np\n",
    "\n",
    "# Print mean height (first column)\n",
    "avg = np.mean(np_baseball[:,0])\n",
    "print(\"Average: \" + str(avg))\n",
    "\n",
    "# Print median height. Replace 'None'\n",
    "med = np.median(np_baseball[:, 0])\n",
    "print(\"Median: \" + str(med))\n",
    "\n",
    "# Print out the standard deviation on height. Replace 'None'\n",
    "stddev = np.std(np_baseball[:, 0])\n",
    "print(\"Standard Deviation: \" + str(stddev))\n",
    "\n",
    "# Print out correlation between first and second column. Replace 'None'\n",
    "corr = np.corrcoef(np_baseball[:, 0], np_baseball[:, 1])\n",
    "print(\"Correlation: \" + str(corr))"
   ]
  }
 ],
 "metadata": {
  "kernelspec": {
   "display_name": "Python 3 (ipykernel)",
   "language": "python",
   "name": "python3"
  },
  "language_info": {
   "codemirror_mode": {
    "name": "ipython",
    "version": 3
   },
   "file_extension": ".py",
   "mimetype": "text/x-python",
   "name": "python",
   "nbconvert_exporter": "python",
   "pygments_lexer": "ipython3",
   "version": "3.9.13"
  }
 },
 "nbformat": 4,
 "nbformat_minor": 5
}
